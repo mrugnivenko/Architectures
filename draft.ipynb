{
 "cells": [
  {
   "cell_type": "code",
   "execution_count": 4,
   "id": "5e9aaab1-41bb-4427-8dcc-c8b466b703b3",
   "metadata": {},
   "outputs": [],
   "source": [
    "import torch\n",
    "import torch.nn as nn"
   ]
  },
  {
   "cell_type": "code",
   "execution_count": 97,
   "id": "ff04f7c5-9734-46f3-9efe-a926eafecd11",
   "metadata": {},
   "outputs": [],
   "source": [
    "class AlexNet(nn.Module):\n",
    "    def __init__(self, ):\n",
    "        super().__init__()\n",
    "        self.relu = nn.ReLU()\n",
    "        self.conv2d_1 = nn.Conv2d(\n",
    "            in_channels=3, \n",
    "            out_channels=96, \n",
    "            kernel_size=11, \n",
    "            stride=4,\n",
    "            padding=2,\n",
    "        )\n",
    "        self.rnl_1 = nn.Identity()\n",
    "        self.max_pool = nn.MaxPool2d(\n",
    "            kernel_size=3, \n",
    "            stride=2,\n",
    "        )\n",
    "        self.conv2d_2 = nn.Conv2d(\n",
    "            in_channels=96, \n",
    "            out_channels=256, \n",
    "            kernel_size=5, \n",
    "            padding=2,\n",
    "        )\n",
    "        self.rnl_2 = nn.Identity()\n",
    "        self.conv2d_3 = nn.Conv2d(\n",
    "            in_channels=256, \n",
    "            out_channels=384, \n",
    "            kernel_size=3, \n",
    "            padding=1,\n",
    "        )\n",
    "        self.conv2d_4 = nn.Conv2d(\n",
    "            in_channels=384, \n",
    "            out_channels=384, \n",
    "            kernel_size=3, \n",
    "            padding=1,\n",
    "        )\n",
    "    \n",
    "    def forward(\n",
    "        self, \n",
    "        input_tensor: torch.Tensor,\n",
    "    ) -> torch.Tensor: \n",
    "        \"\"\"\n",
    "        Parameters:\n",
    "        \n",
    "        Returns:\n",
    "        \"\"\"\n",
    "        output = self.conv2d_1(input_tensor)\n",
    "        print('conv2d_1', output.shape)\n",
    "        output = self.relu(output)\n",
    "        output = self.rnl_1(output)\n",
    "        print('rnl_1', output.shape)\n",
    "        output = self.max_pool(output)\n",
    "        print('max_pool', output.shape)\n",
    "        output = self.conv2d_2(output)\n",
    "        print('conv2d_2', output.shape)\n",
    "        output = self.relu(output)\n",
    "        output = self.rnl_2(output)\n",
    "        print('rnl_2', output.shape)\n",
    "        output = self.max_pool(output)\n",
    "        print('max_pool', output.shape)\n",
    "        output = self.conv2d_3(output)\n",
    "        print('conv2d_3', output.shape)\n",
    "        output = self.relu(output)\n",
    "        output = self.conv2d_4(output)\n",
    "        print('conv2d_4', output.shape)\n",
    "        output = self.relu(output)\n",
    "    \n",
    "        return output "
   ]
  },
  {
   "cell_type": "code",
   "execution_count": 98,
   "id": "3d558930-628b-4745-8286-33955ba05748",
   "metadata": {},
   "outputs": [],
   "source": [
    "model = AlexNet()"
   ]
  },
  {
   "cell_type": "code",
   "execution_count": 99,
   "id": "2346be73-4bdb-4819-a2ac-2a44e2d56d43",
   "metadata": {},
   "outputs": [],
   "source": [
    "input_tensor = torch.rand((1, 3, 224, 224))"
   ]
  },
  {
   "cell_type": "code",
   "execution_count": 100,
   "id": "a43b362b-763d-46d6-a730-699f4b800ff5",
   "metadata": {},
   "outputs": [
    {
     "name": "stdout",
     "output_type": "stream",
     "text": [
      "conv2d_1 torch.Size([1, 96, 55, 55])\n",
      "rnl_1 torch.Size([1, 96, 55, 55])\n",
      "max_pool torch.Size([1, 96, 27, 27])\n",
      "conv2d_2 torch.Size([1, 256, 27, 27])\n",
      "rnl_2 torch.Size([1, 256, 27, 27])\n",
      "max_pool torch.Size([1, 256, 13, 13])\n",
      "conv2d_3 torch.Size([1, 384, 13, 13])\n",
      "conv2d_4 torch.Size([1, 384, 13, 13])\n"
     ]
    }
   ],
   "source": [
    "output = model(input_tensor)"
   ]
  },
  {
   "cell_type": "code",
   "execution_count": 101,
   "id": "09962ff5-530d-4ad3-861e-55520652e9d8",
   "metadata": {},
   "outputs": [
    {
     "data": {
      "text/plain": [
       "AlexNet(\n",
       "  (relu): ReLU()\n",
       "  (conv2d_1): Conv2d(3, 96, kernel_size=(11, 11), stride=(4, 4), padding=(2, 2))\n",
       "  (rnl_1): Identity()\n",
       "  (max_pool): MaxPool2d(kernel_size=3, stride=2, padding=0, dilation=1, ceil_mode=False)\n",
       "  (conv2d_2): Conv2d(96, 256, kernel_size=(5, 5), stride=(1, 1), padding=(2, 2))\n",
       "  (rnl_2): Identity()\n",
       "  (conv2d_3): Conv2d(256, 384, kernel_size=(3, 3), stride=(1, 1), padding=(1, 1))\n",
       "  (conv2d_4): Conv2d(384, 384, kernel_size=(3, 3), stride=(1, 1), padding=(1, 1))\n",
       ")"
      ]
     },
     "execution_count": 101,
     "metadata": {},
     "output_type": "execute_result"
    }
   ],
   "source": [
    "model"
   ]
  },
  {
   "cell_type": "code",
   "execution_count": null,
   "id": "825f1c0f-1689-45a5-b4ef-37ce0b3a3661",
   "metadata": {},
   "outputs": [],
   "source": []
  }
 ],
 "metadata": {
  "kernelspec": {
   "display_name": "py39",
   "language": "python",
   "name": "py39"
  },
  "language_info": {
   "codemirror_mode": {
    "name": "ipython",
    "version": 3
   },
   "file_extension": ".py",
   "mimetype": "text/x-python",
   "name": "python",
   "nbconvert_exporter": "python",
   "pygments_lexer": "ipython3",
   "version": "3.9.13"
  }
 },
 "nbformat": 4,
 "nbformat_minor": 5
}
